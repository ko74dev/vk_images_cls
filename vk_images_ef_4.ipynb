{
  "cells": [
    {
      "cell_type": "markdown",
      "metadata": {
        "id": "nXn84GvZPJ8-"
      },
      "source": [
        "# Классификация изображений\n",
        "\n",
        "ноутбук для решения задания [Всероссийской олимпиады по искусственному интеллекту](https://ai.edu.gov.ru/) \"Классификация изображений\".\n",
        "\n",
        "### 1. Исследование данных:"
      ]
    },
    {
      "cell_type": "code",
      "execution_count": 1,
      "metadata": {},
      "outputs": [
        {
          "data": {
            "text/plain": [
              "((160, 2), (4787, 2))"
            ]
          },
          "execution_count": 1,
          "metadata": {},
          "output_type": "execute_result"
        }
      ],
      "source": [
        "import pandas as pd\n",
        "\n",
        "Train = pd.read_csv('Train.csv', sep=';')\n",
        "\n",
        "# Отбор нужных данных:\n",
        "class_names = ['Торговля и объявления','Животные','Кулинария','Творчество и дизайн',\n",
        "               'Развлечения и юмор', 'СМИ', 'Философия и религия','Путешествия']\n",
        "Train = Train[Train.label.isin(class_names)].drop(columns=['description']).sample(frac=1, random_state=42)\n",
        "\n",
        "label2id = {label: i for i, label in enumerate(class_names)}\n",
        "id2label = {i: label for label, i in label2id.items()}\n",
        "Train['label'] = Train.label.map(label2id)\n",
        "\n",
        "# Выделение валидационной выборки\n",
        "val = pd.concat([Train[Train.label == c].iloc[:20] for c in range(8)])\n",
        "Train = Train.loc[~Train.index.isin(val.index)]\n",
        "val.shape, Train.shape"
      ]
    },
    {
      "cell_type": "code",
      "execution_count": 2,
      "metadata": {},
      "outputs": [
        {
          "data": {
            "text/html": [
              "<div>\n",
              "<style scoped>\n",
              "    .dataframe tbody tr th:only-of-type {\n",
              "        vertical-align: middle;\n",
              "    }\n",
              "\n",
              "    .dataframe tbody tr th {\n",
              "        vertical-align: top;\n",
              "    }\n",
              "\n",
              "    .dataframe thead th {\n",
              "        text-align: right;\n",
              "    }\n",
              "</style>\n",
              "<table border=\"1\" class=\"dataframe\">\n",
              "  <thead>\n",
              "    <tr style=\"text-align: right;\">\n",
              "      <th>label</th>\n",
              "      <th>0</th>\n",
              "      <th>1</th>\n",
              "      <th>2</th>\n",
              "      <th>3</th>\n",
              "      <th>4</th>\n",
              "      <th>5</th>\n",
              "      <th>6</th>\n",
              "      <th>7</th>\n",
              "    </tr>\n",
              "  </thead>\n",
              "  <tbody>\n",
              "    <tr>\n",
              "      <th>id</th>\n",
              "      <td>669</td>\n",
              "      <td>420</td>\n",
              "      <td>775</td>\n",
              "      <td>311</td>\n",
              "      <td>1376</td>\n",
              "      <td>498</td>\n",
              "      <td>404</td>\n",
              "      <td>334</td>\n",
              "    </tr>\n",
              "  </tbody>\n",
              "</table>\n",
              "</div>"
            ],
            "text/plain": [
              "label    0    1    2    3     4    5    6    7\n",
              "id     669  420  775  311  1376  498  404  334"
            ]
          },
          "execution_count": 2,
          "metadata": {},
          "output_type": "execute_result"
        }
      ],
      "source": [
        "# Проверка баланса классов:\n",
        "WC = Train.groupby(Train.label).count()\n",
        "WC[['id']].T"
      ]
    },
    {
      "cell_type": "markdown",
      "metadata": {},
      "source": [
        "### 2. Для устранения дисбаланса классов"
      ]
    },
    {
      "cell_type": "code",
      "execution_count": 3,
      "metadata": {},
      "outputs": [],
      "source": [
        "WC['wc'] = (WC.id.max() / WC.id)\n",
        "WC[['wc']].T\n",
        "\n",
        "# # Веса для семплирования мини-партий данных\n",
        "WfS = Train.label.map(WC.wc.to_dict())"
      ]
    },
    {
      "cell_type": "code",
      "execution_count": 4,
      "metadata": {},
      "outputs": [
        {
          "name": "stderr",
          "output_type": "stream",
          "text": [
            "INFO:albumentations.check_version:A new version of Albumentations is available: 1.4.12 (you have 1.4.11). Upgrade using: pip install --upgrade albumentations\n"
          ]
        }
      ],
      "source": [
        "# Для расширения данных\n",
        "import albumentations as A\n",
        "from albumentations.pytorch import ToTensorV2\n",
        "\n",
        "transform = A.Compose([\n",
        "    A.Resize(height=480, width=480, p=1),   \n",
        "    A.HorizontalFlip(p=.33),\n",
        "    A.RandomBrightnessContrast(brightness_limit=(-0.2, 0.4), contrast_limit=(-0.3, 0.4), p=0.5),\n",
        "    A.ShiftScaleRotate(shift_limit=0.0625, scale_limit=0.25, rotate_limit=30, p=0.4),\n",
        "    A.Blur(blur_limit=3),\n",
        "    A.OpticalDistortion(),\n",
        "    A.GridDistortion(),\n",
        "    A.HueSaturationValue(),\n",
        "    A.Normalize(),\n",
        "    ToTensorV2(),\n",
        "])"
      ]
    },
    {
      "cell_type": "markdown",
      "metadata": {},
      "source": [
        "### 3. Выбор модели и адаптация к задаче"
      ]
    },
    {
      "cell_type": "code",
      "execution_count": 5,
      "metadata": {},
      "outputs": [],
      "source": [
        "from torchvision.models import efficientnet_v2_m, EfficientNet_V2_M_Weights\n",
        "import torch\n",
        "from torch import nn\n",
        "\n",
        "torch.manual_seed(42)\n",
        "\n",
        "weights = EfficientNet_V2_M_Weights.IMAGENET1K_V1\n",
        "model = efficientnet_v2_m(weights=weights)\n",
        "preprocess = weights.transforms()\n",
        "\n",
        "# замарозка весов блоков, короме несколько последних слоев, в части извлечения признаков\n",
        "for params in model.features[:-2].parameters():\n",
        "    params.requires_grad = False\n",
        "for params in model.features[-2:].parameters():\n",
        "    params.requires_grad = True\n",
        "\n",
        "# изменения в слоях \n",
        "model.features[-1][0] = nn.Conv2d(512, 256, (1,1))\n",
        "model.features[-1][1] = nn.BatchNorm2d(256)\n",
        "model.classifier = nn.Sequential(\n",
        "                                nn.Dropout(0.3),\n",
        "                                nn.Linear(256, 128),\n",
        "                                nn.SELU(),\n",
        "                                nn.Dropout(0.3),\n",
        "                                nn.Linear(128, 8))\n",
        "\n",
        "model.to('cuda');"
      ]
    },
    {
      "cell_type": "markdown",
      "metadata": {},
      "source": [
        "### 4. Обучение модели"
      ]
    },
    {
      "cell_type": "code",
      "execution_count": 6,
      "metadata": {},
      "outputs": [],
      "source": [
        "from torchvision.transforms import ToTensor\n",
        "import cv2\n",
        "from torcheval.metrics.functional import multiclass_f1_score as F1\n",
        "\n",
        "# Гиперпараметры обучения модели \n",
        "lr, d, m, bs, cp = 3e-4, .66, 1.02, 64, 36\n",
        "optimizer = torch.optim.AdamW(model.parameters(), lr=lr)\n",
        "loss_fn = torch.nn.CrossEntropyLoss(label_smoothing=.01)\n",
        "\n",
        "# Для валидации\n",
        "valX = torch.stack([preprocess(ToTensor()(cv2.cvtColor(cv2.imread(f'Train/{x}'), cv2.COLOR_BGR2RGB)))\n",
        "                    for x in val.id]).to('cuda')\n",
        "valY = torch.tensor(val.label.values).to('cuda')\n",
        "\n",
        "# Для контроля переобучения\n",
        "l1, l0 = 10, 10"
      ]
    },
    {
      "cell_type": "code",
      "execution_count": 7,
      "metadata": {},
      "outputs": [
        {
          "name": "stdout",
          "output_type": "stream",
          "text": [
            "Train:  0 Loss: 1.0819 F1: 0.7656\tVal 1:\tLoss: 0.9530\tF1: 0.7125\tlr: 0.0003000\n",
            "Train:  0 Loss: 0.9144 F1: 0.7656\tVal 2:\tLoss: 0.8385\tF1: 0.7688\tlr: 0.0001980\n",
            "Train:  0 Loss: 0.8762 F1: 0.6719\tVal 3:\tLoss: 0.7366\tF1: 0.7750\tlr: 0.0001333\n",
            "Train:  0 Loss: 0.6036 F1: 0.8594\tVal 4:\tLoss: 0.7280\tF1: 0.7750\tlr: 0.0000915\n",
            "Train:  0 Loss: 0.6468 F1: 0.8281\tVal 5:\tLoss: 0.6989\tF1: 0.7937\tlr: 0.0000641\n",
            "Train:  0 Loss: 0.4479 F1: 0.8750\tVal 6:\tLoss: 0.7035\tF1: 0.7812\tlr: 0.0000458\n",
            "Train:  0 Loss: 0.5260 F1: 0.8125\tVal 7:\tLoss: 0.6943\tF1: 0.8000\tlr: 0.0000334\n",
            "Train:  0 Loss: 0.3851 F1: 0.8750\tVal 8:\tLoss: 0.6990\tF1: 0.8062\tlr: 0.0000248\n",
            "Train:  0 Loss: 0.4335 F1: 0.8594\tVal 9:\tLoss: 0.7078\tF1: 0.7812\tlr: 0.0000188\n"
          ]
        }
      ],
      "source": [
        "for step in range(1, 1000):\n",
        "        model.train()\n",
        "        batch = Train.sample(n=bs, random_state=step, weights=WfS)\n",
        "        X = torch.stack(batch.id.map(lambda x: \n",
        "                    transform(image=cv2.cvtColor(cv2.imread(f'Train/{x}'),\n",
        "                                    cv2.COLOR_BGR2RGB))['image']).to_list()).to('cuda')\n",
        "        y = torch.tensor(batch.label.values).to('cuda')\n",
        "        optimizer.zero_grad()\n",
        "        pred = model(X)\n",
        "        loss = loss_fn(pred, y)\n",
        "        loss.backward()\n",
        "        optimizer.step()\n",
        "        print(f'\\rTrain: {-step%cp:2} Loss: {loss:.4f} F1: {F1(pred.argmax(1), y, num_classes=8).item():.4f}\\t', end='')\n",
        "        if step % cp: continue\n",
        "        model.eval()\n",
        "        with torch.no_grad():\n",
        "                pred = model(valX)\n",
        "                loss = loss_fn(pred, valY).mean().item()\n",
        "                print(f\"Val {step//cp}:\\tLoss: {loss:.4f}\",\n",
        "                        f'F1: {F1(pred.argmax(1), valY, num_classes=8).item():.4f}',\n",
        "                        f'lr: {optimizer.param_groups[0][\"lr\"]:.7f}', sep='\\t')\n",
        "                if loss > l0 and l1 > l0: break\n",
        "                l1, l0 = loss, l1\n",
        "                lr *= d; d *= m\n",
        "                optimizer.param_groups[0][\"lr\"] = lr"
      ]
    },
    {
      "cell_type": "markdown",
      "metadata": {},
      "source": [
        "### 5. Делаем предсказание на тестовой выборке"
      ]
    },
    {
      "cell_type": "code",
      "execution_count": 8,
      "metadata": {},
      "outputs": [
        {
          "name": "stderr",
          "output_type": "stream",
          "text": [
            "100%|██████████| 41/41 [07:54<00:00, 11.57s/it]\n"
          ]
        }
      ],
      "source": [
        "from tqdm import tqdm\n",
        "\n",
        "test = pd.read_csv('Test.csv', sep=';')\n",
        "model.eval()\n",
        "y = []\n",
        "with torch.no_grad():\n",
        "        for i in tqdm(range(0, len(test), bs)):\n",
        "                X = torch.stack(test.iloc[i: i+bs].id.map(\n",
        "                        lambda x: preprocess(ToTensor()(\n",
        "                                cv2.cvtColor(cv2.imread(f'Test/{x}'), cv2.COLOR_BGR2RGB)\n",
        "                                ))).to_list()).to('cuda')\n",
        "                y += model(X).argmax(1).tolist()"
      ]
    },
    {
      "cell_type": "code",
      "execution_count": 9,
      "metadata": {},
      "outputs": [
        {
          "data": {
            "text/html": [
              "<div>\n",
              "<style scoped>\n",
              "    .dataframe tbody tr th:only-of-type {\n",
              "        vertical-align: middle;\n",
              "    }\n",
              "\n",
              "    .dataframe tbody tr th {\n",
              "        vertical-align: top;\n",
              "    }\n",
              "\n",
              "    .dataframe thead th {\n",
              "        text-align: right;\n",
              "    }\n",
              "</style>\n",
              "<table border=\"1\" class=\"dataframe\">\n",
              "  <thead>\n",
              "    <tr style=\"text-align: right;\">\n",
              "      <th></th>\n",
              "      <th>label</th>\n",
              "    </tr>\n",
              "    <tr>\n",
              "      <th>id</th>\n",
              "      <th></th>\n",
              "    </tr>\n",
              "  </thead>\n",
              "  <tbody>\n",
              "    <tr>\n",
              "      <th>909340245742</th>\n",
              "      <td>Развлечения и юмор</td>\n",
              "    </tr>\n",
              "    <tr>\n",
              "      <th>909342962411</th>\n",
              "      <td>Развлечения и юмор</td>\n",
              "    </tr>\n",
              "    <tr>\n",
              "      <th>909343087161</th>\n",
              "      <td>Путешествия</td>\n",
              "    </tr>\n",
              "    <tr>\n",
              "      <th>909344193109</th>\n",
              "      <td>Торговля и объявления</td>\n",
              "    </tr>\n",
              "    <tr>\n",
              "      <th>909346841420</th>\n",
              "      <td>Кулинария</td>\n",
              "    </tr>\n",
              "    <tr>\n",
              "      <th>...</th>\n",
              "      <td>...</td>\n",
              "    </tr>\n",
              "    <tr>\n",
              "      <th>970656513024</th>\n",
              "      <td>Путешествия</td>\n",
              "    </tr>\n",
              "    <tr>\n",
              "      <th>970691145216</th>\n",
              "      <td>Творчество и дизайн</td>\n",
              "    </tr>\n",
              "    <tr>\n",
              "      <th>970699981568</th>\n",
              "      <td>Путешествия</td>\n",
              "    </tr>\n",
              "    <tr>\n",
              "      <th>970757032704</th>\n",
              "      <td>Животные</td>\n",
              "    </tr>\n",
              "    <tr>\n",
              "      <th>970819920384</th>\n",
              "      <td>Философия и религия</td>\n",
              "    </tr>\n",
              "  </tbody>\n",
              "</table>\n",
              "<p>2565 rows × 1 columns</p>\n",
              "</div>"
            ],
            "text/plain": [
              "                              label\n",
              "id                                 \n",
              "909340245742     Развлечения и юмор\n",
              "909342962411     Развлечения и юмор\n",
              "909343087161            Путешествия\n",
              "909344193109  Торговля и объявления\n",
              "909346841420              Кулинария\n",
              "...                             ...\n",
              "970656513024            Путешествия\n",
              "970691145216    Творчество и дизайн\n",
              "970699981568            Путешествия\n",
              "970757032704               Животные\n",
              "970819920384    Философия и религия\n",
              "\n",
              "[2565 rows x 1 columns]"
            ]
          },
          "execution_count": 9,
          "metadata": {},
          "output_type": "execute_result"
        }
      ],
      "source": [
        "test['label'] = y\n",
        "test.replace(id2label, inplace=True)\n",
        "sub = test.drop(columns=['description']).set_index('id')\n",
        "sub.to_csv('vk_submission_ef-4.csv', index='True', sep = ';')\n",
        "sub"
      ]
    },
    {
      "cell_type": "code",
      "execution_count": null,
      "metadata": {},
      "outputs": [],
      "source": []
    }
  ],
  "metadata": {
    "accelerator": "GPU",
    "colab": {
      "gpuType": "T4",
      "provenance": []
    },
    "kernelspec": {
      "display_name": "Python 3",
      "name": "python3"
    },
    "language_info": {
      "codemirror_mode": {
        "name": "ipython",
        "version": 3
      },
      "file_extension": ".py",
      "mimetype": "text/x-python",
      "name": "python",
      "nbconvert_exporter": "python",
      "pygments_lexer": "ipython3",
      "version": "3.11.9"
    }
  },
  "nbformat": 4,
  "nbformat_minor": 0
}
